{
 "cells": [
  {
   "cell_type": "code",
   "execution_count": 2,
   "metadata": {
    "colab": {
     "base_uri": "https://localhost:8080/",
     "height": 101
    },
    "colab_type": "code",
    "id": "Iz3rWaH6s4r7",
    "outputId": "1e05fc14-0aa4-4643-e9d3-0b6edaa323d9"
   },
   "outputs": [
    {
     "name": "stdout",
     "output_type": "stream",
     "text": [
      "Copying gs://novoic-ml-challenge-text-data/LICENSE...\n",
      "Copying gs://novoic-ml-challenge-text-data/README.md...\n",
      "Copying gs://novoic-ml-challenge-text-data/data.txt...\n",
      "/ [3/3 files][468.7 KiB/468.7 KiB] 100% Done                                    \n",
      "Operation completed over 3 objects/468.7 KiB.                                    \n"
     ]
    }
   ],
   "source": [
    "!mkdir -p data\n",
    "!gsutil -m cp -r gs://novoic-ml-challenge-text-data/* ./data"
   ]
  },
  {
   "cell_type": "code",
   "execution_count": 0,
   "metadata": {
    "colab": {},
    "colab_type": "code",
    "id": "n6MQ3rC3s_on"
   },
   "outputs": [],
   "source": [
    "with open('data/data.txt', 'r') as f:\n",
    "    msgs = f.read().splitlines()"
   ]
  },
  {
   "cell_type": "code",
   "execution_count": 4,
   "metadata": {
    "colab": {
     "base_uri": "https://localhost:8080/",
     "height": 50
    },
    "colab_type": "code",
    "id": "SQ-5dEDVtZRx",
    "outputId": "f39ccd94-721e-4591-c3a4-b2e7c0d4b59d"
   },
   "outputs": [
    {
     "name": "stdout",
     "output_type": "stream",
     "text": [
      "ham\tI'm gonna be home soon and i don't want to talk about this stuff anymore tonight, k? I've cried enough today.\n",
      "spam\tSIX chances to win CASH! From 100 to 20,000 pounds txt> CSH11 and send to 87575. Cost 150p/day, 6days, 16+ TsandCs apply Reply HL 4 info\n"
     ]
    }
   ],
   "source": [
    "print(msgs[10])\n",
    "print(msgs[11])"
   ]
  },
  {
   "cell_type": "code",
   "execution_count": 5,
   "metadata": {
    "colab": {
     "base_uri": "https://localhost:8080/",
     "height": 79
    },
    "colab_type": "code",
    "id": "gloFgbKwtbTa",
    "outputId": "5506c624-9740-4efb-b3cc-1d33f9ec0808"
   },
   "outputs": [
    {
     "data": {
      "text/html": [
       "<p style=\"color: red;\">\n",
       "The default version of TensorFlow in Colab will soon switch to TensorFlow 2.x.<br>\n",
       "We recommend you <a href=\"https://www.tensorflow.org/guide/migrate\" target=\"_blank\">upgrade</a> now \n",
       "or ensure your notebook will continue to use TensorFlow 1.x via the <code>%tensorflow_version 1.x</code> magic:\n",
       "<a href=\"https://colab.research.google.com/notebooks/tensorflow_version.ipynb\" target=\"_blank\">more info</a>.</p>\n"
      ],
      "text/plain": [
       "<IPython.core.display.HTML object>"
      ]
     },
     "metadata": {
      "tags": []
     },
     "output_type": "display_data"
    },
    {
     "data": {
      "text/plain": [
       "'1.15.0'"
      ]
     },
     "execution_count": 5,
     "metadata": {
      "tags": []
     },
     "output_type": "execute_result"
    }
   ],
   "source": [
    "import tensorflow as tf\n",
    "tf.__version__"
   ]
  },
  {
   "cell_type": "markdown",
   "metadata": {
    "colab_type": "text",
    "id": "rZyioZRzWHTP"
   },
   "source": [
    "## **Table of Contents**\n",
    "### 1. [Preprocessing and Data Exploration](#preprocess)\n",
    "### 2. [Bag of words model](#bow)\n",
    "### 3. [TF-IDF](#tfidf)\n",
    "### 4. [Clustering](#cluster)\n",
    "### 5. [Supervised Machine Learning](#ml)\n",
    "### 6. [Parameter Optimisation - Original Data](#gds)\n",
    "### 7. [Parameter Optimisation - Oversampled Data](#gdso)\n",
    "### 8. [Critical Analysis](#ca)\n",
    "### 9. [Referenes](#ref)"
   ]
  },
  {
   "cell_type": "markdown",
   "metadata": {
    "colab_type": "text",
    "id": "PHUwEgMQWuhx"
   },
   "source": [
    "# Preprocessing and Data Exploration\n",
    "<a id=\"preprocess\"></a>"
   ]
  },
  {
   "cell_type": "code",
   "execution_count": 0,
   "metadata": {
    "colab": {},
    "colab_type": "code",
    "id": "qvWJcko7tdGi"
   },
   "outputs": [],
   "source": [
    "#import necessary packages\n",
    "import pandas as pd\n",
    "import numpy as np\n",
    "import matplotlib.pyplot as plt\n",
    "import seaborn as sns\n",
    "from wordcloud import WordCloud, STOPWORDS"
   ]
  },
  {
   "cell_type": "markdown",
   "metadata": {
    "colab_type": "text",
    "id": "AjqyRbM6zsmZ"
   },
   "source": [
    "*Since the class as well as text is in a single line for each message, let's split it so we can create two columns with the split data*"
   ]
  },
  {
   "cell_type": "code",
   "execution_count": 0,
   "metadata": {
    "colab": {},
    "colab_type": "code",
    "id": "HeEV8138tfq5"
   },
   "outputs": [],
   "source": [
    "#splitting the messages into category and SMS\n",
    "msgs_split = [i.split('\\t', 1) for i in msgs]"
   ]
  },
  {
   "cell_type": "code",
   "execution_count": 0,
   "metadata": {
    "colab": {},
    "colab_type": "code",
    "id": "I4BC4ESKtrqU"
   },
   "outputs": [],
   "source": [
    "#create a dataframe of the split\n",
    "msgs_df = pd.DataFrame(msgs_split)"
   ]
  },
  {
   "cell_type": "code",
   "execution_count": 9,
   "metadata": {
    "colab": {
     "base_uri": "https://localhost:8080/",
     "height": 195
    },
    "colab_type": "code",
    "id": "GoBkY0QbtwYg",
    "outputId": "cb845df2-e924-43bd-b2a4-40e30302830f"
   },
   "outputs": [
    {
     "data": {
      "text/html": [
       "<div>\n",
       "<style scoped>\n",
       "    .dataframe tbody tr th:only-of-type {\n",
       "        vertical-align: middle;\n",
       "    }\n",
       "\n",
       "    .dataframe tbody tr th {\n",
       "        vertical-align: top;\n",
       "    }\n",
       "\n",
       "    .dataframe thead th {\n",
       "        text-align: right;\n",
       "    }\n",
       "</style>\n",
       "<table border=\"1\" class=\"dataframe\">\n",
       "  <thead>\n",
       "    <tr style=\"text-align: right;\">\n",
       "      <th></th>\n",
       "      <th>0</th>\n",
       "      <th>1</th>\n",
       "    </tr>\n",
       "  </thead>\n",
       "  <tbody>\n",
       "    <tr>\n",
       "      <th>0</th>\n",
       "      <td>ham</td>\n",
       "      <td>Go until jurong point, crazy.. Available only ...</td>\n",
       "    </tr>\n",
       "    <tr>\n",
       "      <th>1</th>\n",
       "      <td>ham</td>\n",
       "      <td>Ok lar... Joking wif u oni...</td>\n",
       "    </tr>\n",
       "    <tr>\n",
       "      <th>2</th>\n",
       "      <td>spam</td>\n",
       "      <td>Free entry in 2 a wkly comp to win FA Cup fina...</td>\n",
       "    </tr>\n",
       "    <tr>\n",
       "      <th>3</th>\n",
       "      <td>ham</td>\n",
       "      <td>U dun say so early hor... U c already then say...</td>\n",
       "    </tr>\n",
       "    <tr>\n",
       "      <th>4</th>\n",
       "      <td>ham</td>\n",
       "      <td>Nah I don't think he goes to usf, he lives aro...</td>\n",
       "    </tr>\n",
       "  </tbody>\n",
       "</table>\n",
       "</div>"
      ],
      "text/plain": [
       "      0                                                  1\n",
       "0   ham  Go until jurong point, crazy.. Available only ...\n",
       "1   ham                      Ok lar... Joking wif u oni...\n",
       "2  spam  Free entry in 2 a wkly comp to win FA Cup fina...\n",
       "3   ham  U dun say so early hor... U c already then say...\n",
       "4   ham  Nah I don't think he goes to usf, he lives aro..."
      ]
     },
     "execution_count": 9,
     "metadata": {
      "tags": []
     },
     "output_type": "execute_result"
    }
   ],
   "source": [
    "#check the dataframe with some examples\n",
    "msgs_df.head()"
   ]
  },
  {
   "cell_type": "code",
   "execution_count": 0,
   "metadata": {
    "colab": {},
    "colab_type": "code",
    "id": "QKrRmt9utzYL"
   },
   "outputs": [],
   "source": [
    "#add column headers to the dataframe\n",
    "msgs_df.columns = [\"Class\", \"SMS\"]"
   ]
  },
  {
   "cell_type": "code",
   "execution_count": 11,
   "metadata": {
    "colab": {
     "base_uri": "https://localhost:8080/",
     "height": 195
    },
    "colab_type": "code",
    "id": "nFYMO_ABuNWf",
    "outputId": "c8b96bf4-cd77-44ea-f5ae-75912928abd9"
   },
   "outputs": [
    {
     "data": {
      "text/html": [
       "<div>\n",
       "<style scoped>\n",
       "    .dataframe tbody tr th:only-of-type {\n",
       "        vertical-align: middle;\n",
       "    }\n",
       "\n",
       "    .dataframe tbody tr th {\n",
       "        vertical-align: top;\n",
       "    }\n",
       "\n",
       "    .dataframe thead th {\n",
       "        text-align: right;\n",
       "    }\n",
       "</style>\n",
       "<table border=\"1\" class=\"dataframe\">\n",
       "  <thead>\n",
       "    <tr style=\"text-align: right;\">\n",
       "      <th></th>\n",
       "      <th>Class</th>\n",
       "      <th>SMS</th>\n",
       "    </tr>\n",
       "  </thead>\n",
       "  <tbody>\n",
       "    <tr>\n",
       "      <th>0</th>\n",
       "      <td>ham</td>\n",
       "      <td>Go until jurong point, crazy.. Available only ...</td>\n",
       "    </tr>\n",
       "    <tr>\n",
       "      <th>1</th>\n",
       "      <td>ham</td>\n",
       "      <td>Ok lar... Joking wif u oni...</td>\n",
       "    </tr>\n",
       "    <tr>\n",
       "      <th>2</th>\n",
       "      <td>spam</td>\n",
       "      <td>Free entry in 2 a wkly comp to win FA Cup fina...</td>\n",
       "    </tr>\n",
       "    <tr>\n",
       "      <th>3</th>\n",
       "      <td>ham</td>\n",
       "      <td>U dun say so early hor... U c already then say...</td>\n",
       "    </tr>\n",
       "    <tr>\n",
       "      <th>4</th>\n",
       "      <td>ham</td>\n",
       "      <td>Nah I don't think he goes to usf, he lives aro...</td>\n",
       "    </tr>\n",
       "  </tbody>\n",
       "</table>\n",
       "</div>"
      ],
      "text/plain": [
       "  Class                                                SMS\n",
       "0   ham  Go until jurong point, crazy.. Available only ...\n",
       "1   ham                      Ok lar... Joking wif u oni...\n",
       "2  spam  Free entry in 2 a wkly comp to win FA Cup fina...\n",
       "3   ham  U dun say so early hor... U c already then say...\n",
       "4   ham  Nah I don't think he goes to usf, he lives aro..."
      ]
     },
     "execution_count": 11,
     "metadata": {
      "tags": []
     },
     "output_type": "execute_result"
    }
   ],
   "source": [
    "#check the dataframe\n",
    "msgs_df.head()"
   ]
  },
  {
   "cell_type": "code",
   "execution_count": 12,
   "metadata": {
    "colab": {
     "base_uri": "https://localhost:8080/",
     "height": 195
    },
    "colab_type": "code",
    "id": "gt7eWgICuO-n",
    "outputId": "8df7a7a5-d994-4fbf-8c48-2fd593a210b8"
   },
   "outputs": [
    {
     "data": {
      "text/html": [
       "<div>\n",
       "<style scoped>\n",
       "    .dataframe tbody tr th:only-of-type {\n",
       "        vertical-align: middle;\n",
       "    }\n",
       "\n",
       "    .dataframe tbody tr th {\n",
       "        vertical-align: top;\n",
       "    }\n",
       "\n",
       "    .dataframe thead th {\n",
       "        text-align: right;\n",
       "    }\n",
       "</style>\n",
       "<table border=\"1\" class=\"dataframe\">\n",
       "  <thead>\n",
       "    <tr style=\"text-align: right;\">\n",
       "      <th></th>\n",
       "      <th>SMS</th>\n",
       "      <th>Class</th>\n",
       "    </tr>\n",
       "  </thead>\n",
       "  <tbody>\n",
       "    <tr>\n",
       "      <th>0</th>\n",
       "      <td>Go until jurong point, crazy.. Available only ...</td>\n",
       "      <td>ham</td>\n",
       "    </tr>\n",
       "    <tr>\n",
       "      <th>1</th>\n",
       "      <td>Ok lar... Joking wif u oni...</td>\n",
       "      <td>ham</td>\n",
       "    </tr>\n",
       "    <tr>\n",
       "      <th>2</th>\n",
       "      <td>Free entry in 2 a wkly comp to win FA Cup fina...</td>\n",
       "      <td>spam</td>\n",
       "    </tr>\n",
       "    <tr>\n",
       "      <th>3</th>\n",
       "      <td>U dun say so early hor... U c already then say...</td>\n",
       "      <td>ham</td>\n",
       "    </tr>\n",
       "    <tr>\n",
       "      <th>4</th>\n",
       "      <td>Nah I don't think he goes to usf, he lives aro...</td>\n",
       "      <td>ham</td>\n",
       "    </tr>\n",
       "  </tbody>\n",
       "</table>\n",
       "</div>"
      ],
      "text/plain": [
       "                                                 SMS Class\n",
       "0  Go until jurong point, crazy.. Available only ...   ham\n",
       "1                      Ok lar... Joking wif u oni...   ham\n",
       "2  Free entry in 2 a wkly comp to win FA Cup fina...  spam\n",
       "3  U dun say so early hor... U c already then say...   ham\n",
       "4  Nah I don't think he goes to usf, he lives aro...   ham"
      ]
     },
     "execution_count": 12,
     "metadata": {
      "tags": []
     },
     "output_type": "execute_result"
    }
   ],
   "source": [
    "#interchanging the columns for ease (doesn't have to be done it's only a personal choice)\n",
    "column_titles = [\"SMS\", \"Class\"]\n",
    "msgs_df = msgs_df.reindex(columns = column_titles)\n",
    "msgs_df.head()"
   ]
  },
  {
   "cell_type": "markdown",
   "metadata": {
    "colab_type": "text",
    "id": "62qlChbhzY_m"
   },
   "source": [
    "*Now the data is ready to be investigated. On to some data exploration:*"
   ]
  },
  {
   "cell_type": "code",
   "execution_count": 14,
   "metadata": {
    "colab": {
     "base_uri": "https://localhost:8080/",
     "height": 166
    },
    "colab_type": "code",
    "id": "VVdpozHTweWP",
    "outputId": "c176bb75-396d-4c09-b05a-57da7c2067a4"
   },
   "outputs": [
    {
     "data": {
      "text/html": [
       "<div>\n",
       "<style scoped>\n",
       "    .dataframe tbody tr th:only-of-type {\n",
       "        vertical-align: middle;\n",
       "    }\n",
       "\n",
       "    .dataframe tbody tr th {\n",
       "        vertical-align: top;\n",
       "    }\n",
       "\n",
       "    .dataframe thead th {\n",
       "        text-align: right;\n",
       "    }\n",
       "</style>\n",
       "<table border=\"1\" class=\"dataframe\">\n",
       "  <thead>\n",
       "    <tr style=\"text-align: right;\">\n",
       "      <th></th>\n",
       "      <th>SMS</th>\n",
       "      <th>Class</th>\n",
       "    </tr>\n",
       "  </thead>\n",
       "  <tbody>\n",
       "    <tr>\n",
       "      <th>count</th>\n",
       "      <td>5574</td>\n",
       "      <td>5574</td>\n",
       "    </tr>\n",
       "    <tr>\n",
       "      <th>unique</th>\n",
       "      <td>5171</td>\n",
       "      <td>2</td>\n",
       "    </tr>\n",
       "    <tr>\n",
       "      <th>top</th>\n",
       "      <td>Sorry, I'll call later</td>\n",
       "      <td>ham</td>\n",
       "    </tr>\n",
       "    <tr>\n",
       "      <th>freq</th>\n",
       "      <td>30</td>\n",
       "      <td>4827</td>\n",
       "    </tr>\n",
       "  </tbody>\n",
       "</table>\n",
       "</div>"
      ],
      "text/plain": [
       "                           SMS Class\n",
       "count                     5574  5574\n",
       "unique                    5171     2\n",
       "top     Sorry, I'll call later   ham\n",
       "freq                        30  4827"
      ]
     },
     "execution_count": 14,
     "metadata": {
      "tags": []
     },
     "output_type": "execute_result"
    }
   ],
   "source": [
    "#Check the contents of the dataframe\n",
    "msgs_df.describe()"
   ]
  },
  {
   "cell_type": "code",
   "execution_count": 15,
   "metadata": {
    "colab": {
     "base_uri": "https://localhost:8080/",
     "height": 312
    },
    "colab_type": "code",
    "id": "TMa62F3Izg_y",
    "outputId": "b1e9d086-e40f-4ce1-fa83-0d798685f6d6"
   },
   "outputs": [
    {
     "data": {
      "text/plain": [
       "Text(0.5, 1.0, 'Number of ham and spam messages')"
      ]
     },
     "execution_count": 15,
     "metadata": {
      "tags": []
     },
     "output_type": "execute_result"
    },
    {
     "data": {
      "image/png": "[encoded data removed]",
      "text/plain": [
       "<Figure size 432x288 with 1 Axes>"
      ]
     },
     "metadata": {
      "tags": []
     },
     "output_type": "display_data"
    }
   ],
   "source": [
    "#lets check how many messages each ham and spam classes have\n",
    "sns.countplot(x = msgs_df['Class'], data = msgs_df, palette ='hls')\n",
    "plt.title('Number of ham and spam messages')"
   ]
  },
  {
   "cell_type": "markdown",
   "metadata": {
    "colab_type": "text",
    "id": "pirR9UVRqQM8"
   },
   "source": [
    "*This is an imbalanced dataset with the majority class being ham and minority class is spam. This could lead to potential problems causing bias in the performance if machine learning is applied for classification.*"
   ]
  },
  {
   "cell_type": "markdown",
   "metadata": {
    "colab_type": "text",
    "id": "ZdAEUOvPqdlW"
   },
   "source": [
    "*It would be interesting to see if there are words standing out in each class. Let's try to generate a word cloud for each class*"
   ]
  },
  {
   "cell_type": "code",
   "execution_count": 16,
   "metadata": {
    "colab": {
     "base_uri": "https://localhost:8080/",
     "height": 84
    },
    "colab_type": "code",
    "id": "dxscQ7eJu_4r",
    "outputId": "f2a71511-9a7a-4d7a-88a9-6dd2e9fa59a0"
   },
   "outputs": [
    {
     "name": "stdout",
     "output_type": "stream",
     "text": [
      "[nltk_data] Downloading package punkt to /root/nltk_data...\n",
      "[nltk_data]   Unzipping tokenizers/punkt.zip.\n",
      "[nltk_data] Downloading package stopwords to /root/nltk_data...\n",
      "[nltk_data]   Unzipping corpora/stopwords.zip.\n"
     ]
    }
   ],
   "source": [
    "#import necessary packages\n",
    "import nltk\n",
    "nltk.download('punkt')\n",
    "from nltk.tokenize import word_tokenize\n",
    "from nltk.corpus import stopwords\n",
    "nltk.download('stopwords')\n",
    "import re\n",
    "from nltk.stem import PorterStemmer\n",
    "from sklearn.feature_extraction.text import TfidfTransformer\n",
    "import string"
   ]
  },
  {
   "cell_type": "code",
   "execution_count": 17,
   "metadata": {
    "colab": {
     "base_uri": "https://localhost:8080/",
     "height": 303
    },
    "colab_type": "code",
    "id": "12Z_Punot8ps",
    "outputId": "b365f137-c91c-4b6d-d2da-2181b1a11013"
   },
   "outputs": [
    {
     "data": {
      "image/png": "[encoded data removed]",
      "text/plain": [
       "<Figure size 720x360 with 1 Axes>"
      ]
     },
     "metadata": {
      "tags": []
     },
     "output_type": "display_data"
    }
   ],
   "source": [
    "# Create stopword list:\n",
    "stopwords = set(STOPWORDS)\n",
    "spam_words = ' '.join(msgs_df[msgs_df['Class'] == 'spam']['SMS'])\n",
    "\n",
    "# Generate a word cloud image\n",
    "wordcloud = WordCloud(stopwords=stopwords, background_color=\"white\").generate(spam_words)\n",
    "\n",
    "# Display the generated image:\n",
    "plt.figure(figsize=(10,5))\n",
    "plt.imshow(wordcloud, interpolation='bilinear')\n",
    "plt.axis(\"off\")\n",
    "plt.show()"
   ]
  },
  {
   "cell_type": "code",
   "execution_count": 18,
   "metadata": {
    "colab": {
     "base_uri": "https://localhost:8080/",
     "height": 303
    },
    "colab_type": "code",
    "id": "Gg2iovbto1x5",
    "outputId": "632c3655-f702-4f16-8b93-d7eff537294c"
   },
   "outputs": [
    {
     "data": {
      "image/png": "[encoded data removed]",
      "text/plain": [
       "<Figure size 720x360 with 1 Axes>"
      ]
     },
     "metadata": {
      "tags": []
     },
     "output_type": "display_data"
    }
   ],
   "source": [
    "# Create stopword list:\n",
    "stopwords = set(STOPWORDS)\n",
    "ham_words = ' '.join(msgs_df[msgs_df['Class'] == 'ham']['SMS'])\n",
    "\n",
    "# Generate a word cloud image\n",
    "wordcloud = WordCloud(stopwords=stopwords, background_color=\"black\").generate(ham_words)\n",
    "\n",
    "# Display the generated image:\n",
    "plt.figure(figsize=(10,5))\n",
    "plt.imshow(wordcloud, interpolation='bilinear')\n",
    "plt.axis(\"off\")\n",
    "plt.show()"
   ]
  },
  {
   "cell_type": "markdown",
   "metadata": {
    "colab_type": "text",
    "id": "b2n0B3VUgwDS"
   },
   "source": [
    "*We can see some evident differenes (based on our dataset) in the kind of words used in ham and spam messages respectively. This brings human in the loop when looking for explainability after acquiring results from machine learning models.*"
   ]
  },
  {
   "cell_type": "code",
   "execution_count": 0,
   "metadata": {
    "colab": {},
    "colab_type": "code",
    "id": "IYd2Z44etpln"
   },
   "outputs": [],
   "source": [
    "#create a length of the text column\n",
    "msgs_df['length'] = msgs_df['SMS'].apply(len)"
   ]
  },
  {
   "cell_type": "code",
   "execution_count": 20,
   "metadata": {
    "colab": {
     "base_uri": "https://localhost:8080/",
     "height": 195
    },
    "colab_type": "code",
    "id": "jD3WvdthuDMH",
    "outputId": "6b1ea6b4-890c-491b-d68d-c7bb82912558"
   },
   "outputs": [
    {
     "data": {
      "text/html": [
       "<div>\n",
       "<style scoped>\n",
       "    .dataframe tbody tr th:only-of-type {\n",
       "        vertical-align: middle;\n",
       "    }\n",
       "\n",
       "    .dataframe tbody tr th {\n",
       "        vertical-align: top;\n",
       "    }\n",
       "\n",
       "    .dataframe thead th {\n",
       "        text-align: right;\n",
       "    }\n",
       "</style>\n",
       "<table border=\"1\" class=\"dataframe\">\n",
       "  <thead>\n",
       "    <tr style=\"text-align: right;\">\n",
       "      <th></th>\n",
       "      <th>SMS</th>\n",
       "      <th>Class</th>\n",
       "      <th>length</th>\n",
       "    </tr>\n",
       "  </thead>\n",
       "  <tbody>\n",
       "    <tr>\n",
       "      <th>0</th>\n",
       "      <td>Go until jurong point, crazy.. Available only ...</td>\n",
       "      <td>ham</td>\n",
       "      <td>111</td>\n",
       "    </tr>\n",
       "    <tr>\n",
       "      <th>1</th>\n",
       "      <td>Ok lar... Joking wif u oni...</td>\n",
       "      <td>ham</td>\n",
       "      <td>29</td>\n",
       "    </tr>\n",
       "    <tr>\n",
       "      <th>2</th>\n",
       "      <td>Free entry in 2 a wkly comp to win FA Cup fina...</td>\n",
       "      <td>spam</td>\n",
       "      <td>155</td>\n",
       "    </tr>\n",
       "    <tr>\n",
       "      <th>3</th>\n",
       "      <td>U dun say so early hor... U c already then say...</td>\n",
       "      <td>ham</td>\n",
       "      <td>49</td>\n",
       "    </tr>\n",
       "    <tr>\n",
       "      <th>4</th>\n",
       "      <td>Nah I don't think he goes to usf, he lives aro...</td>\n",
       "      <td>ham</td>\n",
       "      <td>61</td>\n",
       "    </tr>\n",
       "  </tbody>\n",
       "</table>\n",
       "</div>"
      ],
      "text/plain": [
       "                                                 SMS Class  length\n",
       "0  Go until jurong point, crazy.. Available only ...   ham     111\n",
       "1                      Ok lar... Joking wif u oni...   ham      29\n",
       "2  Free entry in 2 a wkly comp to win FA Cup fina...  spam     155\n",
       "3  U dun say so early hor... U c already then say...   ham      49\n",
       "4  Nah I don't think he goes to usf, he lives aro...   ham      61"
      ]
     },
     "execution_count": 20,
     "metadata": {
      "tags": []
     },
     "output_type": "execute_result"
    }
   ],
   "source": [
    "#check the dataframe\n",
    "msgs_df.head()"
   ]
  },
  {
   "cell_type": "code",
   "execution_count": 21,
   "metadata": {
    "colab": {
     "base_uri": "https://localhost:8080/",
     "height": 289
    },
    "colab_type": "code",
    "id": "IaKCVADEuH67",
    "outputId": "1ffee1cf-7ebe-4247-b6e7-ff50ecc96527"
   },
   "outputs": [
    {
     "data": {
      "image/png": "[encoded data removed]",
      "text/plain": [
       "<Figure size 864x288 with 2 Axes>"
      ]
     },
     "metadata": {
      "tags": []
     },
     "output_type": "display_data"
    }
   ],
   "source": [
    "#plot the length of different class texts\n",
    "msgs_df.hist(column='length',by='Class',bins=60,figsize=(12,4));\n",
    "plt.xlim(-40,950);"
   ]
  },
  {
   "cell_type": "markdown",
   "metadata": {
    "colab_type": "text",
    "id": "hfoGQkXSuV6u"
   },
   "source": [
    "*We can see there are more number of shorter messages in ham than spam.*"
   ]
  },
  {
   "cell_type": "code",
   "execution_count": 0,
   "metadata": {
    "colab": {},
    "colab_type": "code",
    "id": "gRkmPmwevsaO"
   },
   "outputs": [],
   "source": [
    "#create a function to remove punctuations and stopwords\n",
    "def remove_punctuation_and_stopwords(sms):\n",
    "    \n",
    "    sms_no_punctuation = [ch for ch in sms if ch not in string.punctuation]\n",
    "    sms_no_punctuation = \"\".join(sms_no_punctuation).split()\n",
    "    \n",
    "    sms_no_punctuation_no_stopwords = \\\n",
    "        [word.lower() for word in sms_no_punctuation if word.lower() not in nltk.corpus.stopwords.words(\"english\")]\n",
    "        \n",
    "    return sms_no_punctuation_no_stopwords"
   ]
  },
  {
   "cell_type": "code",
   "execution_count": 23,
   "metadata": {
    "colab": {
     "base_uri": "https://localhost:8080/",
     "height": 118
    },
    "colab_type": "code",
    "id": "i4Lf_8mwwSQ1",
    "outputId": "021bffab-f2e3-4814-cc91-5218275b6bd6"
   },
   "outputs": [
    {
     "data": {
      "text/plain": [
       "0    [go, jurong, point, crazy, available, bugis, n...\n",
       "1                       [ok, lar, joking, wif, u, oni]\n",
       "2    [free, entry, 2, wkly, comp, win, fa, cup, fin...\n",
       "3        [u, dun, say, early, hor, u, c, already, say]\n",
       "4    [nah, dont, think, goes, usf, lives, around, t...\n",
       "Name: SMS, dtype: object"
      ]
     },
     "execution_count": 23,
     "metadata": {
      "tags": []
     },
     "output_type": "execute_result"
    }
   ],
   "source": [
    "#apply function to the SMS column of the dataframe which contains the text messages\n",
    "msgs_df['SMS'].apply(remove_punctuation_and_stopwords).head()"
   ]
  },
  {
   "cell_type": "markdown",
   "metadata": {
    "colab_type": "text",
    "id": "AIxxHBw_wdzW"
   },
   "source": [
    "*Let's find the top 30 words in ham and spam messages*"
   ]
  },
  {
   "cell_type": "code",
   "execution_count": 0,
   "metadata": {
    "colab": {},
    "colab_type": "code",
    "id": "fjRW1EefxbwZ"
   },
   "outputs": [],
   "source": [
    "#creating a copy of the ham and spam messages\n",
    "msgs_ham  = msgs_df[msgs_df['Class'] == 'ham'].copy()\n",
    "msgs_spam = msgs_df[msgs_df['Class'] == 'spam'].copy()"
   ]
  },
  {
   "cell_type": "code",
   "execution_count": 0,
   "metadata": {
    "colab": {},
    "colab_type": "code",
    "id": "PtGhTqUdxVN4"
   },
   "outputs": [],
   "source": [
    "#apply function to remove punctuation and stopwords\n",
    "msgs_ham.loc[:, 'SMS'] = msgs_ham['SMS'].apply(remove_punctuation_and_stopwords)\n",
    "words_msgs_ham = msgs_ham['SMS'].tolist()\n",
    "msgs_spam.loc[:, 'SMS'] = msgs_spam['SMS'].apply(remove_punctuation_and_stopwords)\n",
    "words_msgs_spam = msgs_spam['SMS'].tolist()"
   ]
  },
  {
   "cell_type": "code",
   "execution_count": 0,
   "metadata": {
    "colab": {},
    "colab_type": "code",
    "id": "W0HxbaxlysEg"
   },
   "outputs": [],
   "source": [
    "#create a list of words for each class\n",
    "list_ham_words = []\n",
    "for sublist in words_msgs_ham:\n",
    "    for item in sublist:\n",
    "        list_ham_words.append(item)\n",
    "\n",
    "list_spam_words = []\n",
    "for sublist in words_msgs_spam:\n",
    "    for item in sublist:\n",
    "        list_spam_words.append(item)"
   ]
  },
  {
   "cell_type": "code",
   "execution_count": 0,
   "metadata": {
    "colab": {},
    "colab_type": "code",
    "id": "7F-zPxIay4qP"
   },
   "outputs": [],
   "source": [
    "#A frequency distribution visually shows which words are excessively used in each class\n",
    "fdist_ham  = nltk.FreqDist(list_ham_words)\n",
    "fdist_spam = nltk.FreqDist(list_spam_words)"
   ]
  },
  {
   "cell_type": "code",
   "execution_count": 0,
   "metadata": {
    "colab": {},
    "colab_type": "code",
    "id": "7pkaOgg40Knw"
   },
   "outputs": [],
   "source": [
    "#Let's choose the top 30 words for our frequency distribution\n",
    "df_hamwords_top30 = pd.DataFrame(fdist_ham.most_common(30),  columns=['word', 'count'])\n",
    "df_spamwords_top30 = pd.DataFrame(fdist_spam.most_common(30), columns=['word', 'count'])"
   ]
  },
  {
   "cell_type": "code",
   "execution_count": 29,
   "metadata": {
    "colab": {
     "base_uri": "https://localhost:8080/",
     "height": 422
    },
    "colab_type": "code",
    "id": "bA1bFKJZ0PGM",
    "outputId": "f2de2bb0-f2fd-4d50-fc7c-60d3eac780ba"
   },
   "outputs": [
    {
     "data": {
      "image/png": "[encoded data removed]",
      "text/plain": [
       "<Figure size 720x432 with 1 Axes>"
      ]
     },
     "metadata": {
      "tags": []
     },
     "output_type": "display_data"
    }
   ],
   "source": [
    "#plot the frequency distribution for top 30 ham words\n",
    "fig, ax = plt.subplots(figsize=(10, 6))\n",
    "sns.barplot(x='word', y='count', \n",
    "            data=df_hamwords_top30, ax=ax)\n",
    "plt.title(\"Top 30 Ham words\")\n",
    "plt.xticks(rotation='vertical');"
   ]
  },
  {
   "cell_type": "code",
   "execution_count": 30,
   "metadata": {
    "colab": {
     "base_uri": "https://localhost:8080/",
     "height": 452
    },
    "colab_type": "code",
    "id": "LllorILq0hwQ",
    "outputId": "dd97db5f-0b98-4b68-81ed-297d2f30c45e"
   },
   "outputs": [
    {
     "data": {
      "image/png": "[encoded data removed]",
      "text/plain": [
       "<Figure size 720x432 with 1 Axes>"
      ]
     },
     "metadata": {
      "tags": []
     },
     "output_type": "display_data"
    }
   ],
   "source": [
    "#plot the frequency distribution for top 30 spam words\n",
    "fig, ax = plt.subplots(figsize=(10, 6))\n",
    "sns.barplot(x='word', y='count', \n",
    "            data=df_spamwords_top30, ax=ax)\n",
    "plt.title(\"Top 30 Spam words\")\n",
    "plt.xticks(rotation='vertical');"
   ]
  },
  {
   "cell_type": "markdown",
   "metadata": {
    "colab_type": "text",
    "id": "DP_dKRzHd5ox"
   },
   "source": [
    "## **Bag of words model**\n",
    "<a id=\"bow\"></a>"
   ]
  },
  {
   "cell_type": "markdown",
   "metadata": {
    "colab_type": "text",
    "id": "F_VZGIXG3sQh"
   },
   "source": [
    "*Now going to apply the \"bag of words\" using count vectorizer - BOW model. In this case, the text is broken down into a set of words that do not represent any particular order.*"
   ]
  },
  {
   "cell_type": "code",
   "execution_count": 0,
   "metadata": {
    "colab": {},
    "colab_type": "code",
    "id": "_a6VaWCG4AM0"
   },
   "outputs": [],
   "source": [
    "#import countvectorizer used to break down the text into bag of words\n",
    "from sklearn.feature_extraction.text import CountVectorizer\n",
    "bow_transformer = CountVectorizer(analyzer = remove_punctuation_and_stopwords).fit(msgs_df['SMS'])"
   ]
  },
  {
   "cell_type": "code",
   "execution_count": 32,
   "metadata": {
    "colab": {
     "base_uri": "https://localhost:8080/",
     "height": 34
    },
    "colab_type": "code",
    "id": "7TvcGGNg6Lhk",
    "outputId": "d3d31b17-e695-4c50-e4be-4709a97eb8c6"
   },
   "outputs": [
    {
     "name": "stdout",
     "output_type": "stream",
     "text": [
      "9530\n"
     ]
    }
   ],
   "source": [
    "#print number of words in the transformed bag of words\n",
    "print(len(bow_transformer.vocabulary_))"
   ]
  },
  {
   "cell_type": "markdown",
   "metadata": {
    "colab_type": "text",
    "id": "qS2W003x-2WZ"
   },
   "source": [
    "*Let's see an example of one of the transformed messages of ham and spam each.*"
   ]
  },
  {
   "cell_type": "code",
   "execution_count": 33,
   "metadata": {
    "colab": {
     "base_uri": "https://localhost:8080/",
     "height": 319
    },
    "colab_type": "code",
    "id": "vGgY0nnf-jFK",
    "outputId": "3ad42fbb-5aef-4778-caba-968de1d3e629"
   },
   "outputs": [
    {
     "name": "stdout",
     "output_type": "stream",
     "text": [
      "WINNER!! As a valued network customer you have been selected to receivea £900 prize reward! To claim call 09061701461. Claim code KL341. Valid 12 hours only.\n",
      "  (0, 218)\t1\n",
      "  (0, 324)\t1\n",
      "  (0, 1927)\t1\n",
      "  (0, 2206)\t2\n",
      "  (0, 2267)\t1\n",
      "  (0, 2554)\t1\n",
      "  (0, 4238)\t1\n",
      "  (0, 4813)\t1\n",
      "  (0, 5769)\t1\n",
      "  (0, 6609)\t1\n",
      "  (0, 6849)\t1\n",
      "  (0, 7020)\t1\n",
      "  (0, 7289)\t1\n",
      "  (0, 8792)\t1\n",
      "  (0, 8796)\t1\n",
      "  (0, 9128)\t1\n",
      "  (0, 9519)\t1\n"
     ]
    }
   ],
   "source": [
    "#example of transformed spam message\n",
    "example_spam = msgs_df['SMS'][8]\n",
    "bow_example_spam = bow_transformer.transform([example_spam])\n",
    "print(example_spam)\n",
    "print(bow_example_spam)"
   ]
  },
  {
   "cell_type": "code",
   "execution_count": 34,
   "metadata": {
    "colab": {
     "base_uri": "https://localhost:8080/",
     "height": 302
    },
    "colab_type": "code",
    "id": "6thJMJ7A_HJ3",
    "outputId": "019ae543-7b92-4809-b7ff-228ecd644914"
   },
   "outputs": [
    {
     "name": "stdout",
     "output_type": "stream",
     "text": [
      "09061701461\n",
      "12\n",
      "call\n",
      "claim\n",
      "code\n",
      "customer\n",
      "hours\n",
      "kl341\n",
      "network\n",
      "prize\n",
      "receivea\n",
      "reward\n",
      "selected\n",
      "valid\n",
      "valued\n",
      "winner\n",
      "£900\n"
     ]
    }
   ],
   "source": [
    "#listing the words from the tested text message\n",
    "rows, cols = bow_example_spam.nonzero()\n",
    "for col in cols: \n",
    "    print(bow_transformer.get_feature_names()[col])"
   ]
  },
  {
   "cell_type": "code",
   "execution_count": 35,
   "metadata": {
    "colab": {
     "base_uri": "https://localhost:8080/",
     "height": 34
    },
    "colab_type": "code",
    "id": "o4gCufNd_coI",
    "outputId": "b4dadbaa-8e09-4267-e9de-9d3197dafe71"
   },
   "outputs": [
    {
     "name": "stdout",
     "output_type": "stream",
     "text": [
      "(1, 9530)\n"
     ]
    }
   ],
   "source": [
    "#check the format\n",
    "print(np.shape(bow_example_spam))"
   ]
  },
  {
   "cell_type": "code",
   "execution_count": 36,
   "metadata": {
    "colab": {
     "base_uri": "https://localhost:8080/",
     "height": 151
    },
    "colab_type": "code",
    "id": "pN_OwdUD_m3S",
    "outputId": "ba648f2a-f33e-4827-e45f-8925e8ced489"
   },
   "outputs": [
    {
     "name": "stdout",
     "output_type": "stream",
     "text": [
      "Even my brother is not like to speak with me. They treat me like aids patent.\n",
      "  (0, 1075)\t1\n",
      "  (0, 1826)\t1\n",
      "  (0, 3199)\t1\n",
      "  (0, 5010)\t2\n",
      "  (0, 6238)\t1\n",
      "  (0, 7721)\t1\n",
      "  (0, 8535)\t1\n"
     ]
    }
   ],
   "source": [
    "#example of transformed ham message\n",
    "example_ham = msgs_df['SMS'][6]\n",
    "bow_example_ham = bow_transformer.transform([example_ham])\n",
    "print(example_ham)\n",
    "print(bow_example_ham)"
   ]
  },
  {
   "cell_type": "code",
   "execution_count": 37,
   "metadata": {
    "colab": {
     "base_uri": "https://localhost:8080/",
     "height": 134
    },
    "colab_type": "code",
    "id": "ZLkwi3xkAPwC",
    "outputId": "05318d0c-051e-4916-a225-16d8b0e2fe62"
   },
   "outputs": [
    {
     "name": "stdout",
     "output_type": "stream",
     "text": [
      "aids\n",
      "brother\n",
      "even\n",
      "like\n",
      "patent\n",
      "speak\n",
      "treat\n"
     ]
    }
   ],
   "source": [
    "#listing the words from the tested text message\n",
    "rows, cols = bow_example_ham.nonzero()\n",
    "for col in cols: \n",
    "    print(bow_transformer.get_feature_names()[col])"
   ]
  },
  {
   "cell_type": "code",
   "execution_count": 38,
   "metadata": {
    "colab": {
     "base_uri": "https://localhost:8080/",
     "height": 34
    },
    "colab_type": "code",
    "id": "uHmLWh3dAWeE",
    "outputId": "d8bf90a1-b1c6-4243-e34f-c642c251b35d"
   },
   "outputs": [
    {
     "name": "stdout",
     "output_type": "stream",
     "text": [
      "(1, 9530)\n"
     ]
    }
   ],
   "source": [
    "#check the format\n",
    "print(np.shape(bow_example_ham))"
   ]
  },
  {
   "cell_type": "markdown",
   "metadata": {
    "colab_type": "text",
    "id": "Za8_vCPVAwbr"
   },
   "source": [
    "*Now applying bow transformer model on all the text messages*"
   ]
  },
  {
   "cell_type": "code",
   "execution_count": 0,
   "metadata": {
    "colab": {},
    "colab_type": "code",
    "id": "Z4rwwJbKAlLB"
   },
   "outputs": [],
   "source": [
    "#apply the model on all the messages\n",
    "bow_msgs = bow_transformer.transform(msgs_df['SMS'])"
   ]
  },
  {
   "cell_type": "code",
   "execution_count": 40,
   "metadata": {
    "colab": {
     "base_uri": "https://localhost:8080/",
     "height": 34
    },
    "colab_type": "code",
    "id": "U8f1YUicA6hM",
    "outputId": "b23ad453-9dbd-4a10-e630-c0297ab1d390"
   },
   "outputs": [
    {
     "data": {
      "text/plain": [
       "(5574, 9530)"
      ]
     },
     "execution_count": 40,
     "metadata": {
      "tags": []
     },
     "output_type": "execute_result"
    }
   ],
   "source": [
    "#check the format of the bag of words\n",
    "bow_msgs.shape"
   ]
  },
  {
   "cell_type": "markdown",
   "metadata": {
    "colab_type": "text",
    "id": "jMBBtkLZBVey"
   },
   "source": [
    "*Check how many non-zeroes are available*"
   ]
  },
  {
   "cell_type": "code",
   "execution_count": 41,
   "metadata": {
    "colab": {
     "base_uri": "https://localhost:8080/",
     "height": 34
    },
    "colab_type": "code",
    "id": "4lKrAYqGBVOp",
    "outputId": "e3d44d47-4934-4630-ee42-f451c30d9ab3"
   },
   "outputs": [
    {
     "data": {
      "text/plain": [
       "50102"
      ]
     },
     "execution_count": 41,
     "metadata": {
      "tags": []
     },
     "output_type": "execute_result"
    }
   ],
   "source": [
    "#check the non-zero items\n",
    "bow_msgs.nnz"
   ]
  },
  {
   "cell_type": "code",
   "execution_count": 42,
   "metadata": {
    "colab": {
     "base_uri": "https://localhost:8080/",
     "height": 34
    },
    "colab_type": "code",
    "id": "ST-lpesFBiCk",
    "outputId": "04618db0-fdd8-4103-87f2-8f4ebaea45ee"
   },
   "outputs": [
    {
     "name": "stdout",
     "output_type": "stream",
     "text": [
      "nonzero_percentage is  0.09431813347158577\n"
     ]
    }
   ],
   "source": [
    "#calculate the non-zero percentage\n",
    "nonzero_percentage = ((bow_msgs.nnz)/((bow_msgs.shape[0]*bow_msgs.shape[1]))*100)\n",
    "print(\"nonzero_percentage is \", nonzero_percentage)"
   ]
  },
  {
   "cell_type": "markdown",
   "metadata": {
    "colab_type": "text",
    "id": "EZaKvFjj_omc"
   },
   "source": [
    "*There are roughly 10% non-zero values in the matrix.*"
   ]
  },
  {
   "cell_type": "markdown",
   "metadata": {
    "colab_type": "text",
    "id": "SQg6fRyqgeNV"
   },
   "source": [
    "## **TF-IDF**\n",
    "<a id=\"tfidf\"></a>"
   ]
  },
  {
   "cell_type": "markdown",
   "metadata": {
    "colab_type": "text",
    "id": "0nsFj0v6CQPZ"
   },
   "source": [
    "**TF-IDF** - *Term Frequency - Inverse Document Frequency*\n",
    "- *TfIDF is used to weight the vectors in the documents to identify words that might be more useful to categorize documents/texts. It is also helpful to identify rare words*"
   ]
  },
  {
   "cell_type": "code",
   "execution_count": 0,
   "metadata": {
    "colab": {},
    "colab_type": "code",
    "id": "uZEq0Xb2CP_Y"
   },
   "outputs": [],
   "source": [
    "#import necessary packages and create the transformer function\n",
    "from sklearn.feature_extraction.text import TfidfTransformer\n",
    "\n",
    "tfidf_transformer = TfidfTransformer().fit(bow_msgs)"
   ]
  },
  {
   "cell_type": "code",
   "execution_count": 44,
   "metadata": {
    "colab": {
     "base_uri": "https://localhost:8080/",
     "height": 134
    },
    "colab_type": "code",
    "id": "FxHOPY0QC_Zk",
    "outputId": "73ff57c3-7e09-42d0-a30c-43037965fb12"
   },
   "outputs": [
    {
     "name": "stdout",
     "output_type": "stream",
     "text": [
      "  (0, 8535)\t0.3449563227900963\n",
      "  (0, 7721)\t0.30975665595319324\n",
      "  (0, 6238)\t0.4536339861734264\n",
      "  (0, 5010)\t0.42623706828325114\n",
      "  (0, 3199)\t0.2800736746309343\n",
      "  (0, 1826)\t0.3367032239772431\n",
      "  (0, 1075)\t0.4536339861734264\n"
     ]
    }
   ],
   "source": [
    "#apply the function on the example ham message\n",
    "tfidf_example_ham = tfidf_transformer.transform(bow_example_ham)\n",
    "print(tfidf_example_ham)"
   ]
  },
  {
   "cell_type": "code",
   "execution_count": 45,
   "metadata": {
    "colab": {
     "base_uri": "https://localhost:8080/",
     "height": 302
    },
    "colab_type": "code",
    "id": "aGM_iprvBfmT",
    "outputId": "8edb48c9-d2de-4448-e8d2-953b47421e7f"
   },
   "outputs": [
    {
     "name": "stdout",
     "output_type": "stream",
     "text": [
      "  (0, 9519)\t0.2604704749562644\n",
      "  (0, 9128)\t0.23445410442468242\n",
      "  (0, 8796)\t0.24115538297703254\n",
      "  (0, 8792)\t0.22255196396602828\n",
      "  (0, 7289)\t0.21485018301001318\n",
      "  (0, 7020)\t0.256405203360391\n",
      "  (0, 6849)\t0.29432371435062715\n",
      "  (0, 6609)\t0.17890448987893473\n",
      "  (0, 5769)\t0.21485018301001318\n",
      "  (0, 4813)\t0.29432371435062715\n",
      "  (0, 4238)\t0.22555515434418869\n",
      "  (0, 2554)\t0.19150636249403208\n",
      "  (0, 2267)\t0.21371844502573412\n",
      "  (0, 2206)\t0.34064149340516364\n",
      "  (0, 1927)\t0.1152173145712974\n",
      "  (0, 324)\t0.23877409980487949\n",
      "  (0, 218)\t0.29432371435062715\n"
     ]
    }
   ],
   "source": [
    "#apply the function on the example spam message\n",
    "tfidf_example_spam = tfidf_transformer.transform(bow_example_spam)\n",
    "print(tfidf_example_spam)"
   ]
  },
  {
   "cell_type": "code",
   "execution_count": 0,
   "metadata": {
    "colab": {},
    "colab_type": "code",
    "id": "yLLkj-f4Bvn7"
   },
   "outputs": [],
   "source": [
    "#apply the function on all the bag of words from across the text messages\n",
    "msgs_tfidf = tfidf_transformer.transform(bow_msgs)"
   ]
  },
  {
   "cell_type": "code",
   "execution_count": 47,
   "metadata": {
    "colab": {
     "base_uri": "https://localhost:8080/",
     "height": 34
    },
    "colab_type": "code",
    "id": "Gli0AyJtB93n",
    "outputId": "09f9554c-5332-4e88-cf52-dd65f6d95205"
   },
   "outputs": [
    {
     "data": {
      "text/plain": [
       "(5574, 9530)"
      ]
     },
     "execution_count": 47,
     "metadata": {
      "tags": []
     },
     "output_type": "execute_result"
    }
   ],
   "source": [
    "#check the format\n",
    "msgs_tfidf.shape"
   ]
  },
  {
   "cell_type": "code",
   "execution_count": 0,
   "metadata": {
    "colab": {},
    "colab_type": "code",
    "id": "rSEcQLwtdklY"
   },
   "outputs": [],
   "source": [
    "#import package\n",
    "from sklearn.model_selection import train_test_split"
   ]
  },
  {
   "cell_type": "code",
   "execution_count": 0,
   "metadata": {
    "colab": {},
    "colab_type": "code",
    "id": "mh8Xsc_TCJHy"
   },
   "outputs": [],
   "source": [
    "#split the data into train and test data : 30% test data and 70% training data\n",
    "msgs_tfidf_train, msgs_tfidf_test, class_train, class_test = train_test_split(msgs_tfidf, msgs_df['Class'], test_size = 0.3, random_state = 3)"
   ]
  },
  {
   "cell_type": "code",
   "execution_count": 50,
   "metadata": {
    "colab": {
     "base_uri": "https://localhost:8080/",
     "height": 50
    },
    "colab_type": "code",
    "id": "U3HxdC0BJ-50",
    "outputId": "3935249b-ba1d-4c42-8e2d-22e45609c67b"
   },
   "outputs": [
    {
     "data": {
      "text/plain": [
       "<3901x9530 sparse matrix of type '<class 'numpy.float64'>'\n",
       "\twith 34940 stored elements in Compressed Sparse Row format>"
      ]
     },
     "execution_count": 50,
     "metadata": {
      "tags": []
     },
     "output_type": "execute_result"
    }
   ],
   "source": [
    "#check the training set\n",
    "msgs_tfidf_train"
   ]
  },
  {
   "cell_type": "code",
   "execution_count": 0,
   "metadata": {
    "colab": {},
    "colab_type": "code",
    "id": "cHtzIK8RWaF9"
   },
   "outputs": [],
   "source": [
    "#converting sparse matrix to matrix\n",
    "msgs_tfidf_train = msgs_tfidf_train.A\n",
    "msgs_tfidf_test = msgs_tfidf_test.A"
   ]
  },
  {
   "cell_type": "code",
   "execution_count": 52,
   "metadata": {
    "colab": {
     "base_uri": "https://localhost:8080/",
     "height": 34
    },
    "colab_type": "code",
    "id": "mNO56WWmYLZ7",
    "outputId": "78debb77-c942-496b-c3be-55c8a524ea58"
   },
   "outputs": [
    {
     "data": {
      "text/plain": [
       "(3901, 9530)"
      ]
     },
     "execution_count": 52,
     "metadata": {
      "tags": []
     },
     "output_type": "execute_result"
    }
   ],
   "source": [
    "#check the format\n",
    "msgs_tfidf_train.shape"
   ]
  },
  {
   "cell_type": "markdown",
   "metadata": {
    "colab_type": "text",
    "id": "lI1EYxmWjWYr"
   },
   "source": [
    "## **Unsupervised Machine Learning  - Clustering**\n",
    "<a id=\"cluster\"></a>\n",
    "*Although we have the classes already available, assuming we have a text with no classes avaialble, it would be good to see if they can be classified accurately. I am going to try to apply clustering over the original dataset to see if we can separate them out significantly using this technique.*"
   ]
  },
  {
   "cell_type": "code",
   "execution_count": 0,
   "metadata": {
    "colab": {},
    "colab_type": "code",
    "id": "zE-JQU7C4s6q"
   },
   "outputs": [],
   "source": [
    "#import packages for splitting the data into train and test\n",
    "from sklearn.model_selection import train_test_split\n",
    "from sklearn.cluster import KMeans\n",
    "from sklearn.preprocessing import LabelEncoder"
   ]
  },
  {
   "cell_type": "code",
   "execution_count": 0,
   "metadata": {
    "colab": {},
    "colab_type": "code",
    "id": "i5vsSYkkzWuu"
   },
   "outputs": [],
   "source": [
    "#split the data into training (70%) and test set (30%)\n",
    "X = msgs_df['SMS']\n",
    "Y = msgs_df['Class']\n",
    "X_train, X_test, Y_train, Y_test = train_test_split(X, Y, test_size = 0.3)"
   ]
  },
  {
   "cell_type": "code",
   "execution_count": 0,
   "metadata": {
    "colab": {},
    "colab_type": "code",
    "id": "getFho3S42vT"
   },
   "outputs": [],
   "source": [
    "#encoding the text as labels\n",
    "le = LabelEncoder()\n",
    "X_train = le.fit_transform(X_train)\n",
    "Y_train = le.fit_transform(Y_train)"
   ]
  },
  {
   "cell_type": "code",
   "execution_count": 0,
   "metadata": {
    "colab": {},
    "colab_type": "code",
    "id": "dSPkFSRO5ZAz"
   },
   "outputs": [],
   "source": [
    "X_train = np.array(X_train)"
   ]
  },
  {
   "cell_type": "code",
   "execution_count": 58,
   "metadata": {
    "colab": {
     "base_uri": "https://localhost:8080/",
     "height": 67
    },
    "colab_type": "code",
    "id": "gcZKtpCIzzei",
    "outputId": "8fd7f3dd-3b39-4338-facc-c80221dc4355"
   },
   "outputs": [
    {
     "data": {
      "text/plain": [
       "KMeans(algorithm='auto', copy_x=True, init='k-means++', max_iter=300,\n",
       "       n_clusters=2, n_init=10, n_jobs=None, precompute_distances='auto',\n",
       "       random_state=None, tol=0.0001, verbose=0)"
      ]
     },
     "execution_count": 58,
     "metadata": {
      "tags": []
     },
     "output_type": "execute_result"
    }
   ],
   "source": [
    "#applying kmeans clustering\n",
    "kmeans = KMeans(n_clusters = 2)\n",
    "kmeans.fit(X_train.reshape(-1,1))"
   ]
  },
  {
   "cell_type": "code",
   "execution_count": 59,
   "metadata": {
    "colab": {
     "base_uri": "https://localhost:8080/",
     "height": 34
    },
    "colab_type": "code",
    "id": "oW_DvDTE4gyA",
    "outputId": "f578a876-b648-4340-fafa-6a2486b6c67a"
   },
   "outputs": [
    {
     "name": "stdout",
     "output_type": "stream",
     "text": [
      "0.49551397077672393\n"
     ]
    }
   ],
   "source": [
    "#let's test if the clustering has been done correctly\n",
    "correct = 0\n",
    "for i in range(len(X_train.reshape(-1,1))):\n",
    "    predict_me = np.array(X_train[i].astype(float))\n",
    "    #predict_me = predict_me.reshape(-1, len(predict_me.reshape(-1,1)))\n",
    "    prediction = kmeans.predict(predict_me.reshape(-1,1))\n",
    "    if prediction[0] == Y_train[i]:\n",
    "        correct += 1\n",
    "\n",
    "print(correct/len(X_train.reshape(-1,1)))"
   ]
  },
  {
   "cell_type": "markdown",
   "metadata": {
    "colab_type": "text",
    "id": "da-HrAHe57zc"
   },
   "source": [
    "*It shows a 49.5% prediction accuracy which isn't great. Let's plot it to visualise the results.*"
   ]
  },
  {
   "cell_type": "code",
   "execution_count": 0,
   "metadata": {
    "colab": {},
    "colab_type": "code",
    "id": "T30_pK7B1Fy6"
   },
   "outputs": [],
   "source": [
    "#predict the class using training data and compare with exisiting class information\n",
    "cluster = kmeans.fit_predict(X_train.reshape(-1,1))"
   ]
  },
  {
   "cell_type": "code",
   "execution_count": 61,
   "metadata": {
    "colab": {
     "base_uri": "https://localhost:8080/",
     "height": 279
    },
    "colab_type": "code",
    "id": "qwFGlvj0gKCq",
    "outputId": "37d43687-78f4-42ac-f604-d5d2beece7bd"
   },
   "outputs": [
    {
     "data": {
      "image/png": "[encoded data removed]",
      "text/plain": [
       "<Figure size 432x288 with 1 Axes>"
      ]
     },
     "metadata": {
      "tags": []
     },
     "output_type": "display_data"
    }
   ],
   "source": [
    "#plot the results\n",
    "plt.scatter(X_train, Y_train, c=cluster, cmap ='rainbow')\n",
    "plt.xlabel('SMS')\n",
    "plt.ylabel('Class')\n",
    "plt.show()"
   ]
  },
  {
   "cell_type": "markdown",
   "metadata": {
    "colab_type": "text",
    "id": "pxbwTE2tk_8Y"
   },
   "source": [
    "*As seen in the results, applying clustering to label-encoded text data is not a wise idea as this method considers Euclidean distance rather than relevance or context. In order to classify texts, it is better to apply supervised machine learning models as performed below*\n",
    "\n"
   ]
  },
  {
   "cell_type": "markdown",
   "metadata": {
    "colab_type": "text",
    "id": "HHVXO_GLl_9S"
   },
   "source": [
    "## **Supervised Machine Learning**\n",
    "<a id=\"ml\"></a>"
   ]
  },
  {
   "cell_type": "markdown",
   "metadata": {
    "colab_type": "text",
    "id": "N_mqBbHtlyBJ"
   },
   "source": [
    "*Let's apply some powerful classifiers to perform binary classificaiton. I am trying both Multinomial Naive Bayes as well as Gaussian Naive Bayes to see if there are any differnces in performance. I'm also employing Support Vector Machines on the data*"
   ]
  },
  {
   "cell_type": "code",
   "execution_count": 0,
   "metadata": {
    "colab": {},
    "colab_type": "code",
    "id": "b21UA2s1lxSz"
   },
   "outputs": [],
   "source": [
    "#import packages\n",
    "from sklearn.naive_bayes import MultinomialNB, GaussianNB\n",
    "from sklearn.metrics import classification_report, confusion_matrix, accuracy_score\n",
    "from sklearn.model_selection import GridSearchCV"
   ]
  },
  {
   "cell_type": "code",
   "execution_count": 63,
   "metadata": {
    "colab": {
     "base_uri": "https://localhost:8080/",
     "height": 34
    },
    "colab_type": "code",
    "id": "K4i4GCy6rNtU",
    "outputId": "e4bd9593-3d3a-4886-86d1-c353a4e2a110"
   },
   "outputs": [
    {
     "name": "stdout",
     "output_type": "stream",
     "text": [
      "0.9617453676031081\n"
     ]
    }
   ],
   "source": [
    "#create and apply model\n",
    "spam_detect_model = MultinomialNB().fit(msgs_tfidf_train, class_train)\n",
    "pred_test_MNB = spam_detect_model.predict(msgs_tfidf_test)\n",
    "acc_MNB = accuracy_score(class_test, pred_test_MNB)\n",
    "print(acc_MNB)"
   ]
  },
  {
   "cell_type": "code",
   "execution_count": 64,
   "metadata": {
    "colab": {
     "base_uri": "https://localhost:8080/",
     "height": 34
    },
    "colab_type": "code",
    "id": "u015KPBBrbjm",
    "outputId": "ae1cf396-3221-4819-fd25-c0ce26f07782"
   },
   "outputs": [
    {
     "name": "stdout",
     "output_type": "stream",
     "text": [
      "0.9617453676031081\n"
     ]
    }
   ],
   "source": [
    "#create and apply model\n",
    "spam_detect_model_GB = GaussianNB().fit(msgs_tfidf_train, class_train)\n",
    "pred_test_GB = spam_detect_model.predict(msgs_tfidf_test)\n",
    "acc_GB = accuracy_score(class_test, pred_test_GB)\n",
    "print(acc_GB)"
   ]
  },
  {
   "cell_type": "code",
   "execution_count": 65,
   "metadata": {
    "colab": {
     "base_uri": "https://localhost:8080/",
     "height": 34
    },
    "colab_type": "code",
    "id": "tKBUd_CcvDLz",
    "outputId": "2d032948-0ac6-435f-efb4-4f4db6452cf9"
   },
   "outputs": [
    {
     "name": "stdout",
     "output_type": "stream",
     "text": [
      "0.9713090257023311\n"
     ]
    }
   ],
   "source": [
    "#import, create and apply model\n",
    "from sklearn import svm\n",
    "model = svm.SVC()\n",
    "spam_detect_model_SVM = model.fit(msgs_tfidf_train, class_train)\n",
    "pred_test_SVM = spam_detect_model_SVM.predict(msgs_tfidf_test)\n",
    "acc_SVM = accuracy_score(class_test, pred_test_SVM)\n",
    "print(acc_SVM)"
   ]
  },
  {
   "cell_type": "markdown",
   "metadata": {
    "colab_type": "text",
    "id": "gC6NEi2_4mDh"
   },
   "source": [
    "### Analysis:\n",
    "- *The Multinomial as well as Gaussian Naive Bayes are similar in terms of classification accuracy so we will apply only Multinomial Naive Bayes in the following sections.*\n",
    "\n",
    "- *There is a high possibility of overfitting in this case as this is an imbalanced dataset [1], let's try to perform oversampling to balance the classes.*\n",
    "\n",
    "- *I have used ADASYN to perform oversampling. It is good practice to separate out the test data prior to applying ADASYN to not impact the authenticity of the test data.* "
   ]
  },
  {
   "cell_type": "code",
   "execution_count": 0,
   "metadata": {
    "colab": {},
    "colab_type": "code",
    "id": "5pk3nTkoMYYN"
   },
   "outputs": [],
   "source": [
    "#Divide the bag of words messages into training and test class and then oversample training\n",
    "bow_msgs_train, bow_msgs_test, Class_train_1, Class_test_1 = train_test_split(bow_msgs, msgs_df['Class'], test_size = 0.3, random_state = 5)"
   ]
  },
  {
   "cell_type": "code",
   "execution_count": 0,
   "metadata": {
    "colab": {},
    "colab_type": "code",
    "id": "tOFFrqUjsEDm"
   },
   "outputs": [],
   "source": [
    "#create oversampling function\n",
    "from collections import Counter\n",
    "def makeOverSamplesADASYN(A,b):\n",
    " #input DataFrame\n",
    " #X →Independent Variable in DataFrame\\\n",
    " #y →dependent Variable in Pandas DataFrame format\n",
    " from imblearn.over_sampling import ADASYN \n",
    " sm = ADASYN()\n",
    " A, b = sm.fit_sample(A, b)\n",
    " print(Counter(b))\n",
    " return(A,b)"
   ]
  },
  {
   "cell_type": "code",
   "execution_count": 0,
   "metadata": {
    "colab": {},
    "colab_type": "code",
    "id": "I_vzLNku5C8K"
   },
   "outputs": [],
   "source": [
    "#assign values to parameters to be applied to the function\n",
    "A = bow_msgs_train\n",
    "b = Class_train_1"
   ]
  },
  {
   "cell_type": "code",
   "execution_count": 69,
   "metadata": {
    "colab": {
     "base_uri": "https://localhost:8080/",
     "height": 34
    },
    "colab_type": "code",
    "id": "MZcWEc7rNC7n",
    "outputId": "acbd9729-07ad-4bbd-d876-3978cff910e3"
   },
   "outputs": [
    {
     "data": {
      "text/plain": [
       "(3901, 9530)"
      ]
     },
     "execution_count": 69,
     "metadata": {
      "tags": []
     },
     "output_type": "execute_result"
    }
   ],
   "source": [
    "#check the format\n",
    "A.shape"
   ]
  },
  {
   "cell_type": "code",
   "execution_count": 70,
   "metadata": {
    "colab": {
     "base_uri": "https://localhost:8080/",
     "height": 34
    },
    "colab_type": "code",
    "id": "b1CY3UZXNFfF",
    "outputId": "5318da42-c981-4cf2-c8c5-24cb7dd17896"
   },
   "outputs": [
    {
     "data": {
      "text/plain": [
       "(3901,)"
      ]
     },
     "execution_count": 70,
     "metadata": {
      "tags": []
     },
     "output_type": "execute_result"
    }
   ],
   "source": [
    "#check the format\n",
    "b.shape"
   ]
  },
  {
   "cell_type": "code",
   "execution_count": 71,
   "metadata": {
    "colab": {
     "base_uri": "https://localhost:8080/",
     "height": 154
    },
    "colab_type": "code",
    "id": "OG5GEAFG7aYi",
    "outputId": "d8addad3-1957-4604-a668-70592c39e202"
   },
   "outputs": [
    {
     "name": "stderr",
     "output_type": "stream",
     "text": [
      "/usr/local/lib/python3.6/dist-packages/sklearn/externals/six.py:31: FutureWarning: The module is deprecated in version 0.21 and will be removed in version 0.23 since we've dropped support for Python 2.7. Please rely on the official version of six (https://pypi.org/project/six/).\n",
      "  \"(https://pypi.org/project/six/).\", FutureWarning)\n",
      "/usr/local/lib/python3.6/dist-packages/sklearn/utils/deprecation.py:144: FutureWarning: The sklearn.neighbors.base module is  deprecated in version 0.22 and will be removed in version 0.24. The corresponding classes / functions should instead be imported from sklearn.neighbors. Anything that cannot be imported from sklearn.neighbors is now part of the private API.\n",
      "  warnings.warn(message, FutureWarning)\n",
      "/usr/local/lib/python3.6/dist-packages/sklearn/utils/deprecation.py:87: FutureWarning: Function safe_indexing is deprecated; safe_indexing is deprecated in version 0.22 and will be removed in version 0.24.\n",
      "  warnings.warn(msg, category=FutureWarning)\n"
     ]
    },
    {
     "name": "stdout",
     "output_type": "stream",
     "text": [
      "Counter({'ham': 3391, 'spam': 3328})\n"
     ]
    }
   ],
   "source": [
    "#apply oversampling function\n",
    "e,f = makeOverSamplesADASYN(A, b)"
   ]
  },
  {
   "cell_type": "markdown",
   "metadata": {
    "colab_type": "text",
    "id": "MXDdk3vlnelA"
   },
   "source": [
    "*I have oversampled spam data to bring the number close to the count of ham words*"
   ]
  },
  {
   "cell_type": "code",
   "execution_count": 72,
   "metadata": {
    "colab": {
     "base_uri": "https://localhost:8080/",
     "height": 50
    },
    "colab_type": "code",
    "id": "P1Cs-hBVLlcg",
    "outputId": "2b093195-cc07-4c30-a04d-b238f1c68255"
   },
   "outputs": [
    {
     "data": {
      "text/plain": [
       "<6719x9530 sparse matrix of type '<class 'numpy.int64'>'\n",
       "\twith 89502 stored elements in Compressed Sparse Row format>"
      ]
     },
     "execution_count": 72,
     "metadata": {
      "tags": []
     },
     "output_type": "execute_result"
    }
   ],
   "source": [
    "#check results\n",
    "e"
   ]
  },
  {
   "cell_type": "code",
   "execution_count": 73,
   "metadata": {
    "colab": {
     "base_uri": "https://localhost:8080/",
     "height": 34
    },
    "colab_type": "code",
    "id": "Nb_aUsZVLu0N",
    "outputId": "75567fc4-a004-4070-8a20-7d2712698403"
   },
   "outputs": [
    {
     "data": {
      "text/plain": [
       "array(['ham', 'ham', 'spam', ..., 'spam', 'spam', 'spam'], dtype=object)"
      ]
     },
     "execution_count": 73,
     "metadata": {
      "tags": []
     },
     "output_type": "execute_result"
    }
   ],
   "source": [
    "#check results\n",
    "f"
   ]
  },
  {
   "cell_type": "code",
   "execution_count": 0,
   "metadata": {
    "colab": {},
    "colab_type": "code",
    "id": "xHNgPqxSNsw7"
   },
   "outputs": [],
   "source": [
    "#assign the oversampled data as the new training set for the classification models and apply the tfidf transformer on them\n",
    "msgs_tfidf_train_new = tfidf_transformer.transform(e)"
   ]
  },
  {
   "cell_type": "code",
   "execution_count": 0,
   "metadata": {
    "colab": {},
    "colab_type": "code",
    "id": "CQZy_y-pOFj4"
   },
   "outputs": [],
   "source": [
    "#assign the tfidf transformer on the test data\n",
    "msgs_tfidf_test_new = tfidf_transformer.transform(bow_msgs_test)"
   ]
  },
  {
   "cell_type": "code",
   "execution_count": 0,
   "metadata": {
    "colab": {},
    "colab_type": "code",
    "id": "Z_20q0j2OSC4"
   },
   "outputs": [],
   "source": [
    "#assign the new training labels\n",
    "Class_train_new = f"
   ]
  },
  {
   "cell_type": "code",
   "execution_count": 0,
   "metadata": {
    "colab": {},
    "colab_type": "code",
    "id": "-ldyGuG0Ogwf"
   },
   "outputs": [],
   "source": [
    "#assign the new test labels\n",
    "Class_test_new = Class_test_1"
   ]
  },
  {
   "cell_type": "markdown",
   "metadata": {
    "colab_type": "text",
    "id": "5ooTftTJNjOJ"
   },
   "source": [
    "*Let's apply the classification models on the oversampled training data and original test data*"
   ]
  },
  {
   "cell_type": "code",
   "execution_count": 78,
   "metadata": {
    "colab": {
     "base_uri": "https://localhost:8080/",
     "height": 34
    },
    "colab_type": "code",
    "id": "QFcfYJRaOlWR",
    "outputId": "303b0f8f-ba68-40b1-b915-2e5386a99dd6"
   },
   "outputs": [
    {
     "name": "stdout",
     "output_type": "stream",
     "text": [
      "0.9527794381350867\n"
     ]
    }
   ],
   "source": [
    "#create and apply Multinomial Naive Bayes\n",
    "spam_detect_model_new = MultinomialNB().fit(msgs_tfidf_train_new, Class_train_new)\n",
    "pred_test_MNB_new = spam_detect_model_new.predict(msgs_tfidf_test_new)\n",
    "acc_MNB_new = accuracy_score(Class_test_new, pred_test_MNB_new)\n",
    "print(acc_MNB_new)"
   ]
  },
  {
   "cell_type": "code",
   "execution_count": 79,
   "metadata": {
    "colab": {
     "base_uri": "https://localhost:8080/",
     "height": 34
    },
    "colab_type": "code",
    "id": "VlpBJqSQPIvi",
    "outputId": "637ed5e9-d219-423c-b30d-20f3df441b13"
   },
   "outputs": [
    {
     "name": "stdout",
     "output_type": "stream",
     "text": [
      "0.9665271966527197\n"
     ]
    }
   ],
   "source": [
    "#create and apply SVM\n",
    "spam_detect_model_SVM_new = model.fit(msgs_tfidf_train_new, Class_train_new)\n",
    "pred_test_SVM_new = spam_detect_model_SVM_new.predict(msgs_tfidf_test_new)\n",
    "acc_SVM_new = accuracy_score(Class_test_new, pred_test_SVM_new)\n",
    "print(acc_SVM_new)"
   ]
  },
  {
   "cell_type": "markdown",
   "metadata": {
    "colab_type": "text",
    "id": "oicBaeTiVUs3"
   },
   "source": [
    "*The accuracy has reduced in both cases. This could be due to two reasons:*\n",
    "- *Count vectoriser produces high dimensionality of data. This can mess up how well oversampling works.*\n",
    "- *The initial accuracy was overfitting and tending towards majority class due to the class imbalance.*"
   ]
  },
  {
   "cell_type": "markdown",
   "metadata": {
    "colab_type": "text",
    "id": "dKVYddVIqHEZ"
   },
   "source": [
    "## **Parameter Optimisation - Original Data**\n",
    "<a id=\"gds\"></a>"
   ]
  },
  {
   "cell_type": "markdown",
   "metadata": {
    "colab_type": "text",
    "id": "05om5YqaWTDq"
   },
   "source": [
    "*Since SVM performed better, a grid search may help in identifying the optimal parameters for the model.*"
   ]
  },
  {
   "cell_type": "code",
   "execution_count": 0,
   "metadata": {
    "colab": {},
    "colab_type": "code",
    "id": "sh_QN1lqPpWT"
   },
   "outputs": [],
   "source": [
    "#Using pipeline for Gridsearch\n",
    "from sklearn.pipeline import Pipeline\n",
    "from sklearn.svm import SVC"
   ]
  },
  {
   "cell_type": "code",
   "execution_count": 0,
   "metadata": {
    "colab": {},
    "colab_type": "code",
    "id": "0wcPuvTzcS6w"
   },
   "outputs": [],
   "source": [
    "#divide the original data into train and test\n",
    "msgs_train_final, msgs_test_final, Class_train_final, Class_test_final = train_test_split(msgs_df['SMS'], msgs_df['Class'], test_size =0.3, random_state = 5)"
   ]
  },
  {
   "cell_type": "code",
   "execution_count": 82,
   "metadata": {
    "colab": {
     "base_uri": "https://localhost:8080/",
     "height": 554
    },
    "colab_type": "code",
    "id": "gLvg_VwTaXWn",
    "outputId": "6d2b59ee-fc9e-4339-ff06-02f1f0851892"
   },
   "outputs": [
    {
     "name": "stdout",
     "output_type": "stream",
     "text": [
      "Fitting 5 folds for each of 12 candidates, totalling 60 fits\n"
     ]
    },
    {
     "name": "stderr",
     "output_type": "stream",
     "text": [
      "[Parallel(n_jobs=-1)]: Using backend LokyBackend with 2 concurrent workers.\n",
      "[Parallel(n_jobs=-1)]: Done  46 tasks      | elapsed:  4.2min\n",
      "[Parallel(n_jobs=-1)]: Done  60 out of  60 | elapsed:  5.5min finished\n"
     ]
    },
    {
     "data": {
      "text/plain": [
       "GridSearchCV(cv=5, error_score=nan,\n",
       "             estimator=Pipeline(memory=None,\n",
       "                                steps=[('bow',\n",
       "                                        CountVectorizer(analyzer=<function remove_punctuation_and_stopwords at 0x7fcc5c873378>,\n",
       "                                                        binary=False,\n",
       "                                                        decode_error='strict',\n",
       "                                                        dtype=<class 'numpy.int64'>,\n",
       "                                                        encoding='utf-8',\n",
       "                                                        input='content',\n",
       "                                                        lowercase=True,\n",
       "                                                        max_df=1.0,\n",
       "                                                        max_features=None,\n",
       "                                                        min_df=1,\n",
       "                                                        ngram_range=(1, 1),\n",
       "                                                        preprocessor=None,\n",
       "                                                        sto...\n",
       "                                            random_state=None, shrinking=True,\n",
       "                                            tol=0.001, verbose=False))],\n",
       "                                verbose=False),\n",
       "             iid='deprecated', n_jobs=-1,\n",
       "             param_grid={'clf_SVC__C': [500, 1000, 1500],\n",
       "                         'clf_SVC__kernel': ['linear', 'rbf'],\n",
       "                         'tfidf': [None,\n",
       "                                   TfidfTransformer(norm='l2', smooth_idf=True,\n",
       "                                                    sublinear_tf=False,\n",
       "                                                    use_idf=True)]},\n",
       "             pre_dispatch='2*n_jobs', refit=True, return_train_score=False,\n",
       "             scoring=None, verbose=1)"
      ]
     },
     "execution_count": 82,
     "metadata": {
      "tags": []
     },
     "output_type": "execute_result"
    }
   ],
   "source": [
    "#create a pipeline of the various functions that need to be applied\n",
    "pipe_SVC = Pipeline([ ('bow'  , CountVectorizer(analyzer= remove_punctuation_and_stopwords) ),\n",
    "                   ('tfidf'   , TfidfTransformer()),\n",
    "                   ('clf_SVC' , SVC(C=1000,kernel ='linear',gamma='auto')),\n",
    "                    ])\n",
    "\n",
    "#list out the parameters to be considered during gridsearch\n",
    "parameters_SVC = dict(tfidf=[None, TfidfTransformer()],\n",
    "                      clf_SVC__C=[500,1000,1500],\n",
    "                      clf_SVC__kernel =['linear', 'rbf']\n",
    "                      )\n",
    "#Gridsearch and 5-fold cross validation are applied\n",
    "grid_SVC = GridSearchCV(pipe_SVC, parameters_SVC, \n",
    "                        cv=5, n_jobs=-1, verbose=1)\n",
    "\n",
    "#Fit the model with each of the parameters\n",
    "grid_SVC.fit(X=msgs_train_final, y=Class_train_final)"
   ]
  },
  {
   "cell_type": "code",
   "execution_count": 83,
   "metadata": {
    "colab": {
     "base_uri": "https://localhost:8080/",
     "height": 67
    },
    "colab_type": "code",
    "id": "vxIW8V8XzhZ7",
    "outputId": "7e8017af-5cda-4da3-b791-749224b57143"
   },
   "outputs": [
    {
     "data": {
      "text/plain": [
       "{'clf_SVC__C': 500,\n",
       " 'clf_SVC__kernel': 'linear',\n",
       " 'tfidf': TfidfTransformer(norm='l2', smooth_idf=True, sublinear_tf=False, use_idf=True)}"
      ]
     },
     "execution_count": 83,
     "metadata": {
      "tags": []
     },
     "output_type": "execute_result"
    }
   ],
   "source": [
    "#retrieve the best parameters of the optimised model\n",
    "grid_SVC.best_params_"
   ]
  },
  {
   "cell_type": "code",
   "execution_count": 84,
   "metadata": {
    "colab": {
     "base_uri": "https://localhost:8080/",
     "height": 50
    },
    "colab_type": "code",
    "id": "xboAw9ZJz5-f",
    "outputId": "63b21861-b071-4eeb-81e1-cb9cfa148b3b"
   },
   "outputs": [
    {
     "name": "stdout",
     "output_type": "stream",
     "text": [
      "0.982068141063957\n",
      "0.982068141063957\n"
     ]
    }
   ],
   "source": [
    "#predict on test data\n",
    "pred_test_grid_SVC = grid_SVC.predict(msgs_test_final)\n",
    "acc_SVC = accuracy_score(Class_test_final, pred_test_grid_SVC)\n",
    "print(acc_SVC)\n",
    "print(grid_SVC.score(msgs_test_final, Class_test_final))"
   ]
  },
  {
   "cell_type": "markdown",
   "metadata": {
    "colab_type": "text",
    "id": "WaAmho_2tYtu"
   },
   "source": [
    "*We can see grid search is improving the accuracy on the original data where the results suggest that, based on the parameters supplied, a box constraint of 500, linear Kernel SVM applied over a tf-idf transformed data would produce a good classification of the text categories*"
   ]
  },
  {
   "cell_type": "markdown",
   "metadata": {
    "colab_type": "text",
    "id": "VWKRAIom1xq0"
   },
   "source": [
    "*Let's calculate the other performance metrics*"
   ]
  },
  {
   "cell_type": "code",
   "execution_count": 0,
   "metadata": {
    "colab": {},
    "colab_type": "code",
    "id": "VWBi5Tyv1MyZ"
   },
   "outputs": [],
   "source": [
    "#import the necessary packages\n",
    "from sklearn.metrics import precision_score, recall_score, f1_score, average_precision_score, precision_recall_curve\n",
    "from sklearn.metrics import precision_recall_fscore_support\n",
    "from sklearn.metrics import roc_auc_score"
   ]
  },
  {
   "cell_type": "code",
   "execution_count": 0,
   "metadata": {
    "colab": {},
    "colab_type": "code",
    "id": "0JVm5mlN13Ep"
   },
   "outputs": [],
   "source": [
    "#define the confusion matrix function\n",
    "def plot_confusion_matrix(y_true, y_pred):\n",
    "    mtx = confusion_matrix(y_true, y_pred)\n",
    "    #fig, ax = plt.subplots(figsize=(4,4))\n",
    "    sns.heatmap(mtx, annot=True, fmt='d', linewidths=.5,  \n",
    "                cmap=\"Blues\", square=True, cbar=False)\n",
    "    #  \n",
    "    plt.ylabel('true label')\n",
    "    plt.xlabel('predicted label')"
   ]
  },
  {
   "cell_type": "code",
   "execution_count": 0,
   "metadata": {
    "colab": {},
    "colab_type": "code",
    "id": "knnH02Sf3zK8"
   },
   "outputs": [],
   "source": [
    "#assign the values\n",
    "y_true = Class_test_final\n",
    "y_pred = pred_test_grid_SVC"
   ]
  },
  {
   "cell_type": "code",
   "execution_count": 88,
   "metadata": {
    "colab": {
     "base_uri": "https://localhost:8080/",
     "height": 470
    },
    "colab_type": "code",
    "id": "XXSCW8SW35IJ",
    "outputId": "8c4ddd11-0e27-4dc6-9e76-17947f1c16ee"
   },
   "outputs": [
    {
     "data": {
      "image/png": "[encoded data removed]",
      "text/plain": [
       "<Figure size 720x540 with 1 Axes>"
      ]
     },
     "metadata": {
      "tags": []
     },
     "output_type": "display_data"
    }
   ],
   "source": [
    "#plot the confusion matrix\n",
    "plt.figure(figsize= (10, 7.5))\n",
    "plot_confusion_matrix (y_true, y_pred)"
   ]
  },
  {
   "cell_type": "code",
   "execution_count": 89,
   "metadata": {
    "colab": {
     "base_uri": "https://localhost:8080/",
     "height": 118
    },
    "colab_type": "code",
    "id": "OFWo4oDV4H5H",
    "outputId": "17892cde-9953-47cf-80d6-726bd8bb26dc"
   },
   "outputs": [
    {
     "name": "stdout",
     "output_type": "stream",
     "text": [
      "\n",
      "The precision score is:  [0.98549724 0.96      ]\n",
      "\n",
      "The recall score is:  [0.99373259 0.91139241]\n",
      "\n",
      "The f1 score is:  [0.98959778 0.93506494]\n"
     ]
    }
   ],
   "source": [
    "#calculate the other performance metrics\n",
    "print(\"\\nThe precision score is: \", precision_score(y_true, y_pred, average= None))\n",
    "print(\"\\nThe recall score is: \", recall_score(y_true, y_pred, average = None))\n",
    "print(\"\\nThe f1 score is: \", f1_score(y_true, y_pred, average = None))"
   ]
  },
  {
   "cell_type": "markdown",
   "metadata": {
    "colab_type": "text",
    "id": "7nVx-MKDvQsQ"
   },
   "source": [
    "*F1 score is a weighted measure of the precision and recall which makes it a better measure of evaluating the classifier. In this case, we can see the F1 score is 98.9% which is a good classification ability given the optimised parameters* "
   ]
  },
  {
   "cell_type": "markdown",
   "metadata": {
    "colab_type": "text",
    "id": "NcgBSkR9_ltd"
   },
   "source": [
    "## **Parameter Optimisation - Oversampled Data**\n",
    "<a id=\"gdso\"></a>"
   ]
  },
  {
   "cell_type": "code",
   "execution_count": 90,
   "metadata": {
    "colab": {
     "base_uri": "https://localhost:8080/",
     "height": 370
    },
    "colab_type": "code",
    "id": "fRqcwWDm_ws2",
    "outputId": "b56c7aba-2ea2-42c4-8ce7-7ba2908e25ea"
   },
   "outputs": [
    {
     "name": "stdout",
     "output_type": "stream",
     "text": [
      "Fitting 5 folds for each of 6 candidates, totalling 30 fits\n"
     ]
    },
    {
     "name": "stderr",
     "output_type": "stream",
     "text": [
      "[Parallel(n_jobs=-1)]: Using backend LokyBackend with 2 concurrent workers.\n",
      "[Parallel(n_jobs=-1)]: Done  30 out of  30 | elapsed:   27.3s finished\n"
     ]
    },
    {
     "data": {
      "text/plain": [
       "GridSearchCV(cv=5, error_score=nan,\n",
       "             estimator=Pipeline(memory=None,\n",
       "                                steps=[('clf_SVC',\n",
       "                                        SVC(C=1000, break_ties=False,\n",
       "                                            cache_size=200, class_weight=None,\n",
       "                                            coef0=0.0,\n",
       "                                            decision_function_shape='ovr',\n",
       "                                            degree=3, gamma='auto',\n",
       "                                            kernel='linear', max_iter=-1,\n",
       "                                            probability=False,\n",
       "                                            random_state=None, shrinking=True,\n",
       "                                            tol=0.001, verbose=False))],\n",
       "                                verbose=False),\n",
       "             iid='deprecated', n_jobs=-1,\n",
       "             param_grid={'clf_SVC__C': [500, 1000, 1500],\n",
       "                         'clf_SVC__kernel': ['linear', 'rbf']},\n",
       "             pre_dispatch='2*n_jobs', refit=True, return_train_score=False,\n",
       "             scoring=None, verbose=1)"
      ]
     },
     "execution_count": 90,
     "metadata": {
      "tags": []
     },
     "output_type": "execute_result"
    }
   ],
   "source": [
    "#create a pipeline of the various functions that need to be applied\n",
    "pipe_SVC_1 = Pipeline([ \n",
    "                   ('clf_SVC' , SVC(C=1000,kernel ='linear',gamma='auto')),\n",
    "                    ])\n",
    "\n",
    "#list out the parameters to be considered during gridsearch\n",
    "parameters_SVC_1 = dict(clf_SVC__C=[500,1000,1500],\n",
    "                      clf_SVC__kernel =['linear', 'rbf']\n",
    "                      )\n",
    "\n",
    "#Gridsearch and 5-fold cross validation are applied\n",
    "grid_SVC_1 = GridSearchCV(pipe_SVC_1, parameters_SVC_1, \n",
    "                        cv=5, n_jobs=-1, verbose=1)\n",
    "\n",
    "#Fit the model with each of the parameters\n",
    "grid_SVC_1.fit(X=msgs_tfidf_train_new, y=Class_train_new)"
   ]
  },
  {
   "cell_type": "code",
   "execution_count": 91,
   "metadata": {
    "colab": {
     "base_uri": "https://localhost:8080/",
     "height": 34
    },
    "colab_type": "code",
    "id": "Sq96RN3FAcVl",
    "outputId": "f488e3a1-d585-4c07-bca4-d2fc8fb98997"
   },
   "outputs": [
    {
     "data": {
      "text/plain": [
       "{'clf_SVC__C': 1500, 'clf_SVC__kernel': 'rbf'}"
      ]
     },
     "execution_count": 91,
     "metadata": {
      "tags": []
     },
     "output_type": "execute_result"
    }
   ],
   "source": [
    "#Retrieve the best parameters of the optimised model\n",
    "grid_SVC_1.best_params_"
   ]
  },
  {
   "cell_type": "code",
   "execution_count": 92,
   "metadata": {
    "colab": {
     "base_uri": "https://localhost:8080/",
     "height": 34
    },
    "colab_type": "code",
    "id": "QOTriLsKBFHU",
    "outputId": "c49e57b0-c7a4-45ad-f966-3bd3969d59d2"
   },
   "outputs": [
    {
     "name": "stdout",
     "output_type": "stream",
     "text": [
      "0.9270771069934249\n"
     ]
    }
   ],
   "source": [
    "#predict over the test data\n",
    "pred_test_grid_SVC_1 = grid_SVC_1.predict(msgs_tfidf_test_new)\n",
    "acc_SVC_1 = accuracy_score(Class_test_new, pred_test_grid_SVC_1)\n",
    "print(acc_SVC_1)\n",
    "#print(grid_SVC.score(msgs_test_final, Class_test_final))"
   ]
  },
  {
   "cell_type": "markdown",
   "metadata": {
    "colab_type": "text",
    "id": "04GcQ1iOx8W0"
   },
   "source": [
    "*We can see grid search has in this case caused the accuracy to drop on the oversampled data where the results suggest that, based on the parameters supplied, a box constraint of 1500 and rbf Kernel SVM applied over a tf-idf transformed data would produce a 92.7% classification of the text categories.*"
   ]
  },
  {
   "cell_type": "code",
   "execution_count": 0,
   "metadata": {
    "colab": {},
    "colab_type": "code",
    "id": "Jx1KWRSrBbUj"
   },
   "outputs": [],
   "source": [
    "#define the confusion matrix\n",
    "def plot_confusion_matrix(y_true_1, y_pred_1):\n",
    "    mtx = confusion_matrix(y_true_1, y_pred_1)\n",
    "    #fig, ax = plt.subplots(figsize=(4,4))\n",
    "    sns.heatmap(mtx, annot=True, fmt='d', linewidths=.5,  \n",
    "                cmap=\"Blues\", square=True, cbar=False)\n",
    "    plt.ylabel('true label')\n",
    "    plt.xlabel('predicted label')"
   ]
  },
  {
   "cell_type": "code",
   "execution_count": 95,
   "metadata": {
    "colab": {
     "base_uri": "https://localhost:8080/",
     "height": 470
    },
    "colab_type": "code",
    "id": "ReRf3ot4DMmO",
    "outputId": "a80c236c-c796-4c8a-b010-c02528b3ad57"
   },
   "outputs": [
    {
     "data": {
      "image/png": "[encoded data removed]",
      "text/plain": [
       "<Figure size 720x540 with 1 Axes>"
      ]
     },
     "metadata": {
      "tags": []
     },
     "output_type": "display_data"
    }
   ],
   "source": [
    "#plot confusion matrix\n",
    "plt.figure(figsize= (10, 7.5))\n",
    "plot_confusion_matrix(Class_test_new, pred_test_grid_SVC_1)"
   ]
  },
  {
   "cell_type": "code",
   "execution_count": 96,
   "metadata": {
    "colab": {
     "base_uri": "https://localhost:8080/",
     "height": 118
    },
    "colab_type": "code",
    "id": "jdMacSmEDY-W",
    "outputId": "218e1e26-a390-4f03-f6d3-acf25f6a235f"
   },
   "outputs": [
    {
     "name": "stdout",
     "output_type": "stream",
     "text": [
      "\n",
      "The precision score is:  [0.98522895 0.68025078]\n",
      "\n",
      "The recall score is:  [0.92896936 0.91561181]\n",
      "\n",
      "The f1 score is:  [0.9562724  0.78057554]\n"
     ]
    }
   ],
   "source": [
    "#calculate the other performance metrics\n",
    "print(\"\\nThe precision score is: \", precision_score(Class_test_new, pred_test_grid_SVC_1, average = None))\n",
    "print(\"\\nThe recall score is: \", recall_score(Class_test_new, pred_test_grid_SVC_1, average = None))\n",
    "print(\"\\nThe f1 score is: \", f1_score(Class_test_new, pred_test_grid_SVC_1, average = None))"
   ]
  },
  {
   "cell_type": "markdown",
   "metadata": {
    "colab_type": "text",
    "id": "flVtcl4_xwC4"
   },
   "source": [
    "*F1 score is a weighted measure of the precision and recall which makes it a better measure of evaluating the classifier. In this case, we can see the F1 score is 95.6% which is a good classification ability given the optimised parameters.*"
   ]
  },
  {
   "cell_type": "markdown",
   "metadata": {
    "colab_type": "text",
    "id": "BDM5OTGG1fD2"
   },
   "source": [
    "## **Critical Analysis**\n",
    "<a id=\"ca\"></a>"
   ]
  },
  {
   "cell_type": "markdown",
   "metadata": {
    "colab_type": "text",
    "id": "Sdhp20_L1meq"
   },
   "source": [
    "- *As seen in the results, applying clustering to label-encoded text data is not a wise idea as this method considers Euclidean distance rather than relevance or context. In order to classify texts, it is better to apply supervised machine learning models.*\n",
    "- *Based on the experiments performed, we can see the grid search on the original data where the tf-idf was applied and fed into an SVM model produced the best results. This is despite the class imbalance in the data.*\n",
    "- *Although there is evidence of being able to improve performance by oversampling by different ratios in [1], perhaps in this dataset, the oversampling may not be adding value. This could be because the oversampling was applied to the bag of words. It would be good to experiment different ratios of oversampling on a different format of the dataset to see if it improves the classification performance metrics.*\n",
    "\n"
   ]
  },
  {
   "cell_type": "markdown",
   "metadata": {
    "colab_type": "text",
    "id": "IB1ZecTX8mRl"
   },
   "source": [
    "## **References**\n",
    "<a id=\"ref\"></a>\n",
    "[1] Habib, M., Faris, H., Hassonah, M.A., Alqatawna, J., Sheta, A.F. & Al-Zoubi, A.M. 2018, \"Automatic Email Spam Detection using Genetic Programming with SMOTE\", IEEE, , pp. 185."
   ]
  }
 ],
 "metadata": {
  "accelerator": "GPU",
  "colab": {
   "collapsed_sections": [],
   "name": "Divya - Novoic ML Challenge.ipynb",
   "provenance": []
  },
  "kernelspec": {
   "display_name": "Python 3",
   "language": "python",
   "name": "python3"
  },
  "language_info": {
   "codemirror_mode": {
    "name": "ipython",
    "version": 3
   },
   "file_extension": ".py",
   "mimetype": "text/x-python",
   "name": "python",
   "nbconvert_exporter": "python",
   "pygments_lexer": "ipython3",
   "version": "3.7.6"
  }
 },
 "nbformat": 4,
 "nbformat_minor": 1
}
